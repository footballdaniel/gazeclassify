{
  "cells": [
    {
      "cell_type": "markdown",
      "metadata": {
        "id": "xxNDudjEGMMt"
      },
      "source": [
        "# GazeClassify example\n",
        "Run the code cell by cell. Press the ▶ symbol on the first cell to get started. First, the required packages have to be installed:"
      ]
    },
    {
      "cell_type": "code",
      "execution_count": null,
      "metadata": {
        "id": "-aTYAQtSF3Fn"
      },
      "outputs": [],
      "source": [
        "%%capture\n",
        "!pip install --upgrade gazeclassify"
      ]
    },
    {
      "cell_type": "markdown",
      "metadata": {
        "id": "5LZKEefCGMrz"
      },
      "source": [
        "Analyze sample data. To speed up the analysis, make sure to enable GPU support (`Runtime > Change runtime tye > GPU`). \n",
        "In this example script, the exported data of a Pupil Invisible eye tracker is analyzed."
      ]
    },
    {
      "cell_type": "code",
      "execution_count": null,
      "metadata": {
        "id": "iOWsFnZJGbDc"
      },
      "outputs": [],
      "source": [
        "from gazeclassify import Analysis, PupilLoader, SemanticSegmentation, InstanceSegmentation, example_trial\n",
        "\n",
        "analysis = Analysis()\n",
        "\n",
        "PupilLoader(analysis).from_recordings_folder(example_trial())\n",
        "# To run on your own data, use:\n",
        "# PupilLoader(analysis).from_recordings_folder(\"path/to/your/folder_with_exported_data/\")\n",
        "\n",
        "SemanticSegmentation(analysis).classify(\"Human_Shape\")\n",
        "InstanceSegmentation(analysis).classify(\"Human_Joints\")\n",
        "\n",
        "analysis.save_to_csv()\n",
        "analysis.export_video()\n",
        "analysis.pieplot('pieplot.png')\n"
      ]
    },
    {
      "cell_type": "markdown",
      "metadata": {},
      "source": [
        "Download results. The results are saved as csv and mp4 files."
      ]
    },
    {
      "cell_type": "code",
      "execution_count": null,
      "metadata": {},
      "outputs": [],
      "source": [
        "from google.colab import files\n",
        "files.download('/root/gazeclassify_data/results/Composite.mp4')\n",
        "files.download('/root/gazeclassify_data/results/Result.csv')"
      ]
    },
    {
      "cell_type": "markdown",
      "metadata": {},
      "source": [
        "To upload data to google colab, a convenient way is to use a google drive account."
      ]
    },
    {
      "cell_type": "code",
      "execution_count": null,
      "metadata": {
        "id": "BcGFe-5XGgdI"
      },
      "outputs": [],
      "source": [
        "from google.colab import drive, files\n",
        "drive.mount('/content/drive')"
      ]
    }
  ],
  "metadata": {
    "accelerator": "GPU",
    "colab": {
      "collapsed_sections": [],
      "name": "gazeclassify.ipynb",
      "provenance": []
    },
    "kernelspec": {
      "display_name": "Python 3",
      "name": "python3"
    },
    "language_info": {
      "name": "python"
    }
  },
  "nbformat": 4,
  "nbformat_minor": 0
}
